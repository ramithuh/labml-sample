{
 "cells": [
  {
   "cell_type": "code",
   "execution_count": 1,
   "metadata": {},
   "outputs": [
    {
     "name": "stdout",
     "output_type": "stream",
     "text": [
      "/Users/ramith/Desktop/sample\n"
     ]
    }
   ],
   "source": [
    "!pwd"
   ]
  },
  {
   "cell_type": "code",
   "execution_count": 2,
   "metadata": {},
   "outputs": [],
   "source": [
    "\n",
    "from labml import tracker, monit, experiment, logger\n",
    "from labml.configs import BaseConfigs, option, calculate, hyperparams, aggregate"
   ]
  },
  {
   "cell_type": "code",
   "execution_count": null,
   "metadata": {},
   "outputs": [],
   "source": []
  },
  {
   "cell_type": "code",
   "execution_count": 3,
   "metadata": {},
   "outputs": [],
   "source": [
    "class DeviceConfigs(BaseConfigs):\n",
    "    use_cuda: bool = True\n",
    "    cuda_device: int = 0\n",
    "\n",
    "    device: any"
   ]
  },
  {
   "cell_type": "code",
   "execution_count": 4,
   "metadata": {},
   "outputs": [],
   "source": [
    "class Configs(DeviceConfigs):\n",
    "    model_size: int = 1024\n",
    "    input_size: int = 10\n",
    "    output_size: int = 10\n",
    "\n",
    "    model: any = 'two_hidden_layer'\n",
    "    epochs = 10\n",
    "    steps_per_epcoch = 1024\n",
    "    total_steps: int\n",
    "    variant: str"
   ]
  },
  {
   "cell_type": "code",
   "execution_count": 5,
   "metadata": {},
   "outputs": [],
   "source": [
    "conf = Configs()\n"
   ]
  },
  {
   "cell_type": "code",
   "execution_count": null,
   "metadata": {},
   "outputs": [],
   "source": []
  },
  {
   "cell_type": "code",
   "execution_count": 7,
   "metadata": {},
   "outputs": [
    {
     "data": {
      "text/html": [
       "<pre style=\"overflow-x: scroll;\">\n",
       "\n",
       "<strong><span style=\"text-decoration: underline\">sample</span></strong>: <span style=\"color: #208FFB\">77c351f44e9d11eba027acde48001122</span>\n",
       "[clean]: <strong><span style=\"color: #DDB62B\">\"first commit\"</span></strong>\n",
       "<strong><span style=\"color: #DDB62B\">      49:  </span></strong> loss: <strong> 98.0000</strong> accuracy: <strong> 95.1000</strong></pre>"
      ],
      "text/plain": [
       "<IPython.core.display.HTML object>"
      ]
     },
     "metadata": {},
     "output_type": "display_data"
    }
   ],
   "source": [
    "from labml import tracker, experiment\n",
    "\n",
    "with experiment.record(name='sample', exp_conf=conf):\n",
    "    for i in range(50):\n",
    "        \n",
    "        tracker.save(i, {'loss': i*2, 'accuracy': 100-i/10})"
   ]
  },
  {
   "cell_type": "code",
   "execution_count": 8,
   "metadata": {},
   "outputs": [],
   "source": [
    "import time\n",
    "\n",
    "import numpy as np\n",
    "\n",
    "from labml import tracker\n",
    "\n",
    "# dummy train function\n",
    "def train():\n",
    "    return np.random.randint(100)\n",
    "\n",
    "# Reset global step because we incremented in previous loop\n",
    "tracker.set_global_step(0)"
   ]
  },
  {
   "cell_type": "code",
   "execution_count": null,
   "metadata": {},
   "outputs": [],
   "source": []
  }
 ],
 "metadata": {
  "kernelspec": {
   "display_name": "Python 3",
   "language": "python",
   "name": "python3"
  },
  "language_info": {
   "codemirror_mode": {
    "name": "ipython",
    "version": 3
   },
   "file_extension": ".py",
   "mimetype": "text/x-python",
   "name": "python",
   "nbconvert_exporter": "python",
   "pygments_lexer": "ipython3",
   "version": "3.7.3"
  }
 },
 "nbformat": 4,
 "nbformat_minor": 4
}

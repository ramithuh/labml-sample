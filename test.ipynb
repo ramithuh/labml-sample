{
 "cells": [
  {
   "cell_type": "code",
   "execution_count": 6,
   "metadata": {},
   "outputs": [
    {
     "data": {
      "text/html": [
       "<pre style=\"overflow-x: scroll;\">\n",
       "\n",
       "<strong><span style=\"text-decoration: underline\">: one two three</span></strong>: <span style=\"color: #208FFB\">2d2d4ae44f2111ebac7facde48001122</span>\n",
       "[clean]: <strong><span style=\"color: #DDB62B\">\"hello\"</span></strong>\n",
       "<strong><span style=\"color: #DDB62B\">     999:  </span></strong> loss: <strong>0.454021</strong> accuracy: <strong>0.665259</strong> loss.train: <span style=\"color: #C5C1B4\">    -.--</span> accuracy.train: <span style=\"color: #C5C1B4\">    -.--</span> loss.valid: <span style=\"color: #C5C1B4\">    -.--</span> accuracy.valid: <span style=\"color: #C5C1B4\">    -.--</span></pre>"
      ],
      "text/plain": [
       "<IPython.core.display.HTML object>"
      ]
     },
     "metadata": {},
     "output_type": "display_data"
    }
   ],
   "source": [
    "\n",
    "from numpy.random import random\n",
    "from labml import tracker, experiment as exp\n",
    "\n",
    "conf = {'batch_size': 20}\n",
    "\n",
    "def  train(n:int):\n",
    "    loss = 0.999 ** n + random() / 10\n",
    "    accuracy = 1 - 0.999 ** n + random() / 10\n",
    "\n",
    "    return loss, accuracy\n",
    "\n",
    "with exp.record(name=': one two three', exp_conf=conf):\n",
    "    for i in range(1000):\n",
    "        lss, acc = train(i)\n",
    "        tracker.save(i, loss=lss, accuracy=acc)"
   ]
  },
  {
   "cell_type": "code",
   "execution_count": 4,
   "metadata": {},
   "outputs": [
    {
     "data": {
      "text/html": [
       "<pre style=\"overflow-x: scroll;\">\n",
       "<strong><span style=\"text-decoration: underline\">MNIST Keras</span></strong>: <span style=\"color: #208FFB\">e42b9b084f1f11ebac7facde48001122</span>\n",
       "[clean]: <strong><span style=\"color: #DDB62B\">\"mnist\"</span></strong>\n",
       "<strong><span style=\"color: #DDB62B\">   2,874:  </span></strong> loss: <span style=\"color: #C5C1B4\">    -.--</span> accuracy: <span style=\"color: #C5C1B4\">    -.--</span> loss.train: <strong>0.296661</strong> accuracy.train: <strong>0.913783</strong> loss.valid: <strong>0.137465</strong> accuracy.valid: <strong>0.956500</strong>\n",
       "<strong><span style=\"color: #DDB62B\">   4,749:  </span></strong> loss: <span style=\"color: #C5C1B4\">    -.--</span> accuracy: <span style=\"color: #C5C1B4\">    -.--</span> loss.train: <strong>0.145275</strong> accuracy.train: <strong>0.956867</strong> loss.valid: <strong>0.104324</strong> accuracy.valid: <strong>0.967000</strong>\n",
       "<strong><span style=\"color: #DDB62B\">   6,624:  </span></strong> loss: <span style=\"color: #C5C1B4\">    -.--</span> accuracy: <span style=\"color: #C5C1B4\">    -.--</span> loss.train: <strong>0.108934</strong> accuracy.train: <strong>0.967300</strong> loss.valid: <strong>0.094460</strong> accuracy.valid: <strong>0.971900</strong>\n",
       "<strong><span style=\"color: #DDB62B\">   8,499:  </span></strong> loss: <span style=\"color: #C5C1B4\">    -.--</span> accuracy: <span style=\"color: #C5C1B4\">    -.--</span> loss.train: <strong>0.089773</strong> accuracy.train: <strong>0.972367</strong> loss.valid: <strong>0.086126</strong> accuracy.valid: <strong>0.974900</strong>\n",
       "<strong><span style=\"color: #DDB62B\">  10,374:  </span></strong> loss: <span style=\"color: #C5C1B4\">    -.--</span> accuracy: <span style=\"color: #C5C1B4\">    -.--</span> loss.train: <strong>0.076430</strong> accuracy.train: <strong>0.976200</strong> loss.valid: <strong>0.073501</strong> accuracy.valid: <strong>0.977400</strong></pre>"
      ],
      "text/plain": [
       "<IPython.core.display.HTML object>"
      ]
     },
     "metadata": {},
     "output_type": "display_data"
    }
   ],
   "source": [
    "import tensorflow as tf\n",
    "\n",
    "from labml import experiment\n",
    "from labml.utils.keras import LabMLKerasCallback\n",
    "\n",
    "\n",
    "def main():\n",
    "    experiment.create(name='MNIST Keras')\n",
    "\n",
    "    (x_train, y_train), (x_test, y_test) = tf.keras.datasets.mnist.load_data()\n",
    "    x_train, x_test = x_train / 255.0, x_test / 255.0\n",
    "\n",
    "    model = tf.keras.models.Sequential([\n",
    "        tf.keras.layers.Flatten(input_shape=(28, 28)),\n",
    "        tf.keras.layers.Dense(128, activation='relu'),\n",
    "        tf.keras.layers.Dropout(0.2),\n",
    "        tf.keras.layers.Dense(10)\n",
    "    ])\n",
    "\n",
    "    loss_fn = tf.keras.losses.SparseCategoricalCrossentropy(from_logits=True)\n",
    "\n",
    "    model.compile(optimizer='adam',\n",
    "                  loss=loss_fn,\n",
    "                  metrics=['accuracy'])\n",
    "\n",
    "    with experiment.start():\n",
    "        model.fit(x_train, y_train, epochs=5, validation_data=(x_test, y_test),\n",
    "                  callbacks=[LabMLKerasCallback()], verbose=None)\n",
    "\n",
    "\n",
    "if __name__ == '__main__':\n",
    "    main()"
   ]
  },
  {
   "cell_type": "code",
   "execution_count": null,
   "metadata": {},
   "outputs": [],
   "source": []
  }
 ],
 "metadata": {
  "kernelspec": {
   "display_name": "Python 3",
   "language": "python",
   "name": "python3"
  },
  "language_info": {
   "codemirror_mode": {
    "name": "ipython",
    "version": 3
   },
   "file_extension": ".py",
   "mimetype": "text/x-python",
   "name": "python",
   "nbconvert_exporter": "python",
   "pygments_lexer": "ipython3",
   "version": "3.7.3"
  }
 },
 "nbformat": 4,
 "nbformat_minor": 4
}

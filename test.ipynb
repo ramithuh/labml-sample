{
 "cells": [
  {
   "cell_type": "code",
   "execution_count": 8,
   "metadata": {},
   "outputs": [
    {
     "data": {
      "text/html": [
       "<pre style=\"overflow-x: scroll;\">\n",
       "\n",
       "<strong><span style=\"text-decoration: underline\">: one two three</span></strong>: <span style=\"color: #208FFB\">6009ad364f2111ebac7facde48001122</span>\n",
       "[clean]: <strong><span style=\"color: #DDB62B\">\"e\"</span></strong>\n",
       "<strong><span style=\"color: #DDB62B\">     999:  </span></strong> loss: <strong>0.447955</strong> accuracy: <strong>0.674345</strong> loss.train: <span style=\"color: #C5C1B4\">    -.--</span> accuracy.train: <span style=\"color: #C5C1B4\">    -.--</span> loss.valid: <span style=\"color: #C5C1B4\">    -.--</span> accuracy.valid: <span style=\"color: #C5C1B4\">    -.--</span></pre>"
      ],
      "text/plain": [
       "<IPython.core.display.HTML object>"
      ]
     },
     "metadata": {},
     "output_type": "display_data"
    }
   ],
   "source": [
    "\n",
    "from numpy.random import random\n",
    "from labml import tracker, experiment as exp\n",
    "\n",
    "conf = {'batch_size': 20}\n",
    "\n",
    "def  train(n:int):\n",
    "    loss = 0.999 ** n + random() / 10\n",
    "    accuracy = 1 - 0.999 ** n + random() / 10\n",
    "\n",
    "    return loss, accuracy\n",
    "\n",
    "with exp.record(name=': one two three', exp_conf=conf):\n",
    "    for i in range(1000):\n",
    "        lss, acc = train(i)\n",
    "        tracker.save(i, loss=lss, accuracy=acc)"
   ]
  },
  {
   "cell_type": "code",
   "execution_count": 9,
   "metadata": {},
   "outputs": [
    {
     "data": {
      "text/html": [
       "<pre style=\"overflow-x: scroll;\">\n",
       "<strong><span style=\"text-decoration: underline\">MNIST Keras</span></strong>: <span style=\"color: #208FFB\">8d802b784f2111ebac7facde48001122</span>\n",
       "\t[dirty]: <strong><span style=\"color: #DDB62B\">\"e\"</span></strong>\n",
       "<span style=\"color: #E75C58\">[FAIL]</span> Cannot trial an experiment with uncommitted changes.</pre>"
      ],
      "text/plain": [
       "<IPython.core.display.HTML object>"
      ]
     },
     "metadata": {},
     "output_type": "display_data"
    },
    {
     "ename": "NameError",
     "evalue": "name 'exit' is not defined",
     "output_type": "error",
     "traceback": [
      "\u001b[0;31m---------------------------------------------------------------------------\u001b[0m",
      "\u001b[0;31mNameError\u001b[0m                                 Traceback (most recent call last)",
      "\u001b[0;32m<ipython-input-9-f1f6a608715b>\u001b[0m in \u001b[0;36m<module>\u001b[0;34m\u001b[0m\n\u001b[1;32m     30\u001b[0m \u001b[0;34m\u001b[0m\u001b[0m\n\u001b[1;32m     31\u001b[0m \u001b[0;32mif\u001b[0m \u001b[0m__name__\u001b[0m \u001b[0;34m==\u001b[0m \u001b[0;34m'__main__'\u001b[0m\u001b[0;34m:\u001b[0m\u001b[0;34m\u001b[0m\u001b[0;34m\u001b[0m\u001b[0m\n\u001b[0;32m---> 32\u001b[0;31m     \u001b[0mmain\u001b[0m\u001b[0;34m(\u001b[0m\u001b[0;34m)\u001b[0m\u001b[0;34m\u001b[0m\u001b[0;34m\u001b[0m\u001b[0m\n\u001b[0m",
      "\u001b[0;32m<ipython-input-9-f1f6a608715b>\u001b[0m in \u001b[0;36mmain\u001b[0;34m()\u001b[0m\n\u001b[1;32m     24\u001b[0m                   metrics=['accuracy'])\n\u001b[1;32m     25\u001b[0m \u001b[0;34m\u001b[0m\u001b[0m\n\u001b[0;32m---> 26\u001b[0;31m     \u001b[0;32mwith\u001b[0m \u001b[0mexperiment\u001b[0m\u001b[0;34m.\u001b[0m\u001b[0mstart\u001b[0m\u001b[0;34m(\u001b[0m\u001b[0;34m)\u001b[0m\u001b[0;34m:\u001b[0m\u001b[0;34m\u001b[0m\u001b[0;34m\u001b[0m\u001b[0m\n\u001b[0m\u001b[1;32m     27\u001b[0m         model.fit(x_train, y_train, epochs=5, validation_data=(x_test, y_test),\n\u001b[1;32m     28\u001b[0m                   callbacks=[LabMLKerasCallback()], verbose=None)\n",
      "\u001b[0;32m~/Documents/170221T/Semester 4/EN2550 - Image Processing/img-processing-env/lib/python3.7/site-packages/labml/experiment.py\u001b[0m in \u001b[0;36mstart\u001b[0;34m()\u001b[0m\n\u001b[1;32m    244\u001b[0m     \u001b[0;32mglobal\u001b[0m \u001b[0m_load_checkpoint\u001b[0m\u001b[0;34m\u001b[0m\u001b[0;34m\u001b[0m\u001b[0m\n\u001b[1;32m    245\u001b[0m \u001b[0;34m\u001b[0m\u001b[0m\n\u001b[0;32m--> 246\u001b[0;31m     \u001b[0;32mreturn\u001b[0m \u001b[0m_experiment_singleton\u001b[0m\u001b[0;34m(\u001b[0m\u001b[0;34m)\u001b[0m\u001b[0;34m.\u001b[0m\u001b[0mstart\u001b[0m\u001b[0;34m(\u001b[0m\u001b[0mrun_uuid\u001b[0m\u001b[0;34m=\u001b[0m\u001b[0m_load_run_uuid\u001b[0m\u001b[0;34m,\u001b[0m \u001b[0mcheckpoint\u001b[0m\u001b[0;34m=\u001b[0m\u001b[0m_load_checkpoint\u001b[0m\u001b[0;34m)\u001b[0m\u001b[0;34m\u001b[0m\u001b[0;34m\u001b[0m\u001b[0m\n\u001b[0m\u001b[1;32m    247\u001b[0m \u001b[0;34m\u001b[0m\u001b[0m\n\u001b[1;32m    248\u001b[0m \u001b[0;34m\u001b[0m\u001b[0m\n",
      "\u001b[0;32m~/Documents/170221T/Semester 4/EN2550 - Image Processing/img-processing-env/lib/python3.7/site-packages/labml/internal/experiment/__init__.py\u001b[0m in \u001b[0;36mstart\u001b[0;34m(self, run_uuid, checkpoint)\u001b[0m\n\u001b[1;32m    395\u001b[0m                 logger.log([(\"[FAIL]\", Text.danger),\n\u001b[1;32m    396\u001b[0m                             \" Cannot trial an experiment with uncommitted changes.\"])\n\u001b[0;32m--> 397\u001b[0;31m                 \u001b[0mexit\u001b[0m\u001b[0;34m(\u001b[0m\u001b[0;36m1\u001b[0m\u001b[0;34m)\u001b[0m\u001b[0;34m\u001b[0m\u001b[0;34m\u001b[0m\u001b[0m\n\u001b[0m\u001b[1;32m    398\u001b[0m \u001b[0;34m\u001b[0m\u001b[0m\n\u001b[1;32m    399\u001b[0m         \u001b[0;32mif\u001b[0m \u001b[0;32mnot\u001b[0m \u001b[0mself\u001b[0m\u001b[0;34m.\u001b[0m\u001b[0mis_evaluate\u001b[0m\u001b[0;34m:\u001b[0m\u001b[0;34m\u001b[0m\u001b[0;34m\u001b[0m\u001b[0m\n",
      "\u001b[0;31mNameError\u001b[0m: name 'exit' is not defined"
     ]
    }
   ],
   "source": [
    "import tensorflow as tf\n",
    "\n",
    "from labml import experiment\n",
    "from labml.utils.keras import LabMLKerasCallback\n",
    "\n",
    "\n",
    "def main():\n",
    "    experiment.create(name='MNIST Keras')\n",
    "\n",
    "    (x_train, y_train), (x_test, y_test) = tf.keras.datasets.mnist.load_data()\n",
    "    x_train, x_test = x_train / 255.0, x_test / 255.0\n",
    "\n",
    "    model = tf.keras.models.Sequential([\n",
    "        tf.keras.layers.Flatten(input_shape=(28, 28)),\n",
    "        tf.keras.layers.Dense(128, activation='relu'),\n",
    "        tf.keras.layers.Dropout(0.2),\n",
    "        tf.keras.layers.Dense(10)\n",
    "    ])\n",
    "\n",
    "    loss_fn = tf.keras.losses.SparseCategoricalCrossentropy(from_logits=True)\n",
    "\n",
    "    model.compile(optimizer='adam',\n",
    "                  loss=loss_fn,\n",
    "                  metrics=['accuracy'])\n",
    "\n",
    "    with experiment.start():\n",
    "        model.fit(x_train, y_train, epochs=1, validation_data=(x_test, y_test),\n",
    "                  callbacks=[LabMLKerasCallback()], verbose=None)\n",
    "\n",
    "\n",
    "if __name__ == '__main__':\n",
    "    main()"
   ]
  },
  {
   "cell_type": "code",
   "execution_count": null,
   "metadata": {},
   "outputs": [],
   "source": []
  }
 ],
 "metadata": {
  "kernelspec": {
   "display_name": "Python 3",
   "language": "python",
   "name": "python3"
  },
  "language_info": {
   "codemirror_mode": {
    "name": "ipython",
    "version": 3
   },
   "file_extension": ".py",
   "mimetype": "text/x-python",
   "name": "python",
   "nbconvert_exporter": "python",
   "pygments_lexer": "ipython3",
   "version": "3.7.3"
  }
 },
 "nbformat": 4,
 "nbformat_minor": 4
}

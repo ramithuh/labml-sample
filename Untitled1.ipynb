{
 "cells": [
  {
   "cell_type": "code",
   "execution_count": 1,
   "metadata": {},
   "outputs": [
    {
     "data": {
      "text/html": [
       "<pre style=\"overflow-x: scroll;\">\n",
       "\n",
       "<strong><span style=\"text-decoration: underline\">TEST-no key</span></strong>: <span style=\"color: #208FFB\">fd9950844ea311ebbf32acde48001122</span>\n",
       "[clean]: <strong><span style=\"color: #DDB62B\">\"first commit\"</span></strong>\n",
       "<strong><span style=\"color: #DDB62B\">     999:  </span></strong> loss: <strong>0.381415</strong> accuracy: <strong>0.673685</strong></pre>"
      ],
      "text/plain": [
       "<IPython.core.display.HTML object>"
      ]
     },
     "metadata": {},
     "output_type": "display_data"
    }
   ],
   "source": [
    "from numpy.random import random\n",
    "from labml import tracker, experiment as exp\n",
    "\n",
    "conf = {'batch_size': 20}\n",
    "\n",
    "def  train(n:int):\n",
    "    loss = 0.999 ** n + random() / 10\n",
    "    accuracy = 1 - 0.999 ** n + random() / 10\n",
    "\n",
    "    return loss, accuracy\n",
    "\n",
    "with exp.record(name='TEST-no key', exp_conf=conf):\n",
    "    for i in range(1000):\n",
    "        lss, acc = train(i)\n",
    "        tracker.save(i, loss=lss, accuracy=acc)"
   ]
  },
  {
   "cell_type": "code",
   "execution_count": null,
   "metadata": {},
   "outputs": [],
   "source": []
  }
 ],
 "metadata": {
  "kernelspec": {
   "display_name": "Python 3",
   "language": "python",
   "name": "python3"
  },
  "language_info": {
   "codemirror_mode": {
    "name": "ipython",
    "version": 3
   },
   "file_extension": ".py",
   "mimetype": "text/x-python",
   "name": "python",
   "nbconvert_exporter": "python",
   "pygments_lexer": "ipython3",
   "version": "3.7.3"
  }
 },
 "nbformat": 4,
 "nbformat_minor": 4
}

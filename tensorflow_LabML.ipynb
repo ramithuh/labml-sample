{
 "cells": [
  {
   "cell_type": "code",
   "execution_count": 1,
   "metadata": {},
   "outputs": [
    {
     "name": "stderr",
     "output_type": "stream",
     "text": [
      "/Users/ramith/Documents/170221T/Semester 4/EN2550 - Image Processing/img-processing-env/lib/python3.7/site-packages/pydot.py:18: UserWarning: Couldn't import dot_parser, loading of dot files will not be possible.\n"
     ]
    },
    {
     "data": {
      "text/html": [
       "<pre style=\"overflow-x: scroll;\">\n",
       "\n",
       "<strong><span style=\"text-decoration: underline\">yoyo</span></strong>: <span style=\"color: #208FFB\">8e16af565e5511eb8ae6acde48001122</span>\n",
       "\t[dirty]: <strong><span style=\"color: #DDB62B\">\"test\"</span></strong>\n",
       "<strong><span style=\"color: #DDB62B\">   1,875:  </span></strong> loss.train: <strong>0.296743</strong> accuracy.train: <strong>0.913133</strong> loss.valid: <strong>0.140417</strong> accuracy.valid: <strong>0.958600</strong>\n",
       "<strong><span style=\"color: #DDB62B\">   1,875:  </span></strong> loss.train: <span style=\"color: #C5C1B4\">0.296743</span> accuracy.train: <span style=\"color: #C5C1B4\">0.913133</span> loss.valid: <span style=\"color: #C5C1B4\">0.140417</span> accuracy.valid: <span style=\"color: #C5C1B4\">0.958600</span> loss.test: <strong> 80.0000</strong> accuracy.test: <strong> 1.23000</strong></pre>"
      ],
      "text/plain": [
       "<IPython.core.display.HTML object>"
      ]
     },
     "metadata": {},
     "output_type": "display_data"
    }
   ],
   "source": [
    "import tensorflow as tf\n",
    "\n",
    "from labml import experiment\n",
    "from labml import logger,tracker\n",
    "from labml.logger import Text, Color\n",
    "from labml.utils.keras import LabMLKerasCallback\n",
    "\n",
    "configs = {\n",
    "    'epochs': 1,\n",
    "    'train_batch_size': 64,\n",
    "    'valid_batch_size': 100,\n",
    "    'use_cuda': True,\n",
    "    'seed': 5,\n",
    "    'train_log_interval': 10,\n",
    "    'learning_rate': 0.01,\n",
    "}\n",
    "\n",
    "\n",
    "    \n",
    "def main():\n",
    "    # ✨ Create the experiment\n",
    "    experiment.create(name='yoyo',python_file=\"tensorflow_LabML.ipynb\")\n",
    "    # ✨ Save configurations\n",
    "    experiment.configs(configs)\n",
    "\n",
    "    (x_train, y_train), (x_test, y_test) = tf.keras.datasets.mnist.load_data()\n",
    "    x_train, x_test = x_train / 255.0, x_test / 255.0\n",
    "\n",
    "    model = tf.keras.models.Sequential([\n",
    "        tf.keras.layers.Flatten(input_shape=(28, 28)),\n",
    "        tf.keras.layers.Dense(128, activation='relu'),\n",
    "        tf.keras.layers.Dropout(0.2),\n",
    "        tf.keras.layers.Dense(10)\n",
    "    ])\n",
    "\n",
    "    loss_fn = tf.keras.losses.SparseCategoricalCrossentropy(from_logits=True)\n",
    "\n",
    "    model.compile(optimizer='adam',\n",
    "                  loss=loss_fn,\n",
    "                  metrics=['accuracy'])\n",
    "    \n",
    "    # ✨ Start and monitor the experiment\n",
    "    \n",
    "    \n",
    "    with experiment.start():    \n",
    "        model.fit(x_train, y_train, epochs=configs['epochs'] , validation_data=(x_test, y_test),\n",
    "                      callbacks=[LabMLKerasCallback()], verbose=None)\n",
    "        \n",
    "        ### Logging Test Accuracy/Loss (example)\n",
    "        tracker.save({'loss.test': 80.0, 'accuracy.test': 1.23})\n",
    "\n",
    "if __name__ == '__main__':\n",
    "    main()"
   ]
  },
  {
   "cell_type": "code",
   "execution_count": null,
   "metadata": {},
   "outputs": [],
   "source": []
  }
 ],
 "metadata": {
  "kernelspec": {
   "display_name": "Python 3",
   "language": "python",
   "name": "python3"
  },
  "language_info": {
   "codemirror_mode": {
    "name": "ipython",
    "version": 3
   },
   "file_extension": ".py",
   "mimetype": "text/x-python",
   "name": "python",
   "nbconvert_exporter": "python",
   "pygments_lexer": "ipython3",
   "version": "3.7.3"
  }
 },
 "nbformat": 4,
 "nbformat_minor": 4
}
